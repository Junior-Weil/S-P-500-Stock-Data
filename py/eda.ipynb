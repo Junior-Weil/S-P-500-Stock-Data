{
 "cells": [
  {
   "cell_type": "markdown",
   "id": "8668a053",
   "metadata": {},
   "source": [
    "Image_processing kernal/conda env"
   ]
  },
  {
   "cell_type": "code",
   "execution_count": null,
   "id": "3749dd4a",
   "metadata": {},
   "outputs": [],
   "source": [
    "import pandas as pd\n",
    "import numpy as np\n",
    "import os as os\n",
    "import matplotlib.pyplot as plt\n",
    "from dotenv import load_dotenv # type: ignore\n",
    "\n",
    "load_dotenv()\n",
    "\n",
    "os.chdir(os.getenv(\"BASE_PATH\"))"
   ]
  },
  {
   "cell_type": "code",
   "execution_count": 13,
   "id": "971321c7",
   "metadata": {},
   "outputs": [
    {
     "name": "stdout",
     "output_type": "stream",
     "text": [
      "(rows, cols): (619040, 7)\n"
     ]
    }
   ],
   "source": [
    "raw_data = pd.read_csv('./data/raw/all_stocks_5yr.csv')\n",
    "print(f\"(rows, cols): {raw_data.shape}\")\n",
    "\n"
   ]
  },
  {
   "cell_type": "code",
   "execution_count": 14,
   "id": "f7bd88e6",
   "metadata": {},
   "outputs": [
    {
     "name": "stdout",
     "output_type": "stream",
     "text": [
      "(rows, cols): (10, 7)\n"
     ]
    }
   ],
   "source": [
    "short_df = raw_data.copy(deep=True)\n",
    "short_df = short_df.iloc[:10]\n",
    "print(f\"(rows, cols): {short_df.shape}\")"
   ]
  },
  {
   "cell_type": "code",
   "execution_count": 18,
   "id": "69ef48fe",
   "metadata": {},
   "outputs": [
    {
     "name": "stdout",
     "output_type": "stream",
     "text": [
      "numeric_cols: ['open', 'high', 'low', 'close', 'volume']\n",
      "cols: ['date', 'open', 'high', 'low', 'close', 'volume', 'Name']\n"
     ]
    }
   ],
   "source": [
    "from numbers import Number\n",
    "\n",
    "def get_cols(df):\n",
    "  cols = df.columns.to_list()\n",
    "  numeric_cols = [col for col in cols if isinstance(df[col][1], Number)]\n",
    "\n",
    "  return cols, numeric_cols\n",
    "\n",
    "cols, numeric_cols = get_cols(short_df)\n",
    "print(f\"numeric_cols: {numeric_cols}\")\n",
    "print(f\"cols: {cols}\")"
   ]
  },
  {
   "cell_type": "code",
   "execution_count": 29,
   "id": "3d2e0c44",
   "metadata": {},
   "outputs": [
    {
     "name": "stdout",
     "output_type": "stream",
     "text": [
      "0    2013-02-08\n",
      "1    2013-02-11\n",
      "2    2013-02-12\n",
      "3    2013-02-13\n",
      "4    2013-02-14\n",
      "5    2013-02-15\n",
      "6    2013-02-19\n",
      "7    2013-02-20\n",
      "8    2013-02-21\n",
      "9    2013-02-22\n",
      "Name: date, dtype: object\n",
      "<class 'datetime.date'>\n"
     ]
    }
   ],
   "source": [
    "def convert_to_dt(df_col):\n",
    "  return pd.to_datetime(df_col.convert_dtypes(True), yearfirst=True).dt.date\n",
    "\n",
    "short_df['date'] = convert_to_dt(short_df['date'])\n",
    "print(short_df['date'].infer_objects())\n",
    "print(type(short_df['date'][0]))"
   ]
  },
  {
   "cell_type": "code",
   "execution_count": null,
   "id": "156e1c0f",
   "metadata": {},
   "outputs": [
    {
     "name": "stdout",
     "output_type": "stream",
     "text": [
      "(10,)\n",
      "object\n",
      "2013-02-08\n"
     ]
    }
   ],
   "source": []
  },
  {
   "cell_type": "code",
   "execution_count": null,
   "id": "bea7695a",
   "metadata": {},
   "outputs": [],
   "source": []
  }
 ],
 "metadata": {
  "kernelspec": {
   "display_name": "image_processing",
   "language": "python",
   "name": "python3"
  },
  "language_info": {
   "codemirror_mode": {
    "name": "ipython",
    "version": 3
   },
   "file_extension": ".py",
   "mimetype": "text/x-python",
   "name": "python",
   "nbconvert_exporter": "python",
   "pygments_lexer": "ipython3",
   "version": "3.11.9"
  }
 },
 "nbformat": 4,
 "nbformat_minor": 5
}
